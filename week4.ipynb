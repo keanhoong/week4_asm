{
 "cells": [
  {
   "cell_type": "markdown",
   "id": "e16fc7ed-7e7a-4d14-822e-07970212d116",
   "metadata": {},
   "source": [
    "# My Jupyter Notebook on IBM Watson Studio"
   ]
  },
  {
   "cell_type": "markdown",
   "id": "d769d117-b078-4422-a7d7-6a94c17e3d79",
   "metadata": {},
   "source": [
    "**Liang Kean Hoong, Head of Data**"
   ]
  },
  {
   "cell_type": "markdown",
   "id": "4ae4dbf5-8725-4a7e-aa9e-79ec99fe53f4",
   "metadata": {},
   "source": [
    "*I am interested in data science because its enables companies to efficiently understand gigantic data from multiple sources and derive valuable insights to make smarter data-driven decisions*"
   ]
  },
  {
   "cell_type": "markdown",
   "id": "a698b892-2dbb-4986-8f7c-6f18cc885111",
   "metadata": {},
   "source": [
    "### I am going to demo the display result of 1 + 1 "
   ]
  },
  {
   "cell_type": "code",
   "execution_count": 1,
   "id": "5741605d-7493-482a-b810-bad1df04dbd6",
   "metadata": {},
   "outputs": [
    {
     "name": "stdout",
     "output_type": "stream",
     "text": [
      "2\n"
     ]
    }
   ],
   "source": [
    "print(1 + 1)"
   ]
  },
  {
   "cell_type": "markdown",
   "id": "e9aca9e8-7ade-43c8-836c-4442b8a81354",
   "metadata": {},
   "source": [
    "Markdown | Less | Pretty\n",
    "--- | --- | ---\n",
    "*Still* | `renders` | ~~nicely~~\n",
    "1 | 2 | 3"
   ]
  },
  {
   "cell_type": "code",
   "execution_count": null,
   "id": "2a122f72-6f06-4b1d-9d63-bfe1d5ce9394",
   "metadata": {},
   "outputs": [],
   "source": []
  }
 ],
 "metadata": {
  "kernelspec": {
   "display_name": "Python",
   "language": "python",
   "name": "conda-env-python-py"
  },
  "language_info": {
   "codemirror_mode": {
    "name": "ipython",
    "version": 3
   },
   "file_extension": ".py",
   "mimetype": "text/x-python",
   "name": "python",
   "nbconvert_exporter": "python",
   "pygments_lexer": "ipython3",
   "version": "3.7.12"
  }
 },
 "nbformat": 4,
 "nbformat_minor": 5
}
